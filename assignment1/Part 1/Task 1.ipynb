{
 "cells": [
  {
   "cell_type": "markdown",
   "id": "dc331fbb",
   "metadata": {},
   "source": [
    "# Task 1: Geometric Transformation"
   ]
  },
  {
   "cell_type": "code",
   "execution_count": 2,
   "id": "0bc2ab6d",
   "metadata": {},
   "outputs": [],
   "source": [
    "%matplotlib tk"
   ]
  },
  {
   "cell_type": "code",
   "execution_count": 3,
   "id": "ec041e36",
   "metadata": {},
   "outputs": [],
   "source": [
    "import cv2\n",
    "import numpy as np\n",
    "import matplotlib.pyplot as plt"
   ]
  },
  {
   "cell_type": "code",
   "execution_count": 4,
   "id": "2983e9bf",
   "metadata": {},
   "outputs": [],
   "source": [
    "img = cv2.imread(\"test_image.jpg\")\n",
    "img = cv2.cvtColor(img, cv2.COLOR_BGR2RGB)"
   ]
  },
  {
   "cell_type": "code",
   "execution_count": 5,
   "id": "f1f894f2",
   "metadata": {},
   "outputs": [],
   "source": [
    "plt.imshow(img)\n",
    "plt.axis('off')\n",
    "plt.show()"
   ]
  },
  {
   "cell_type": "code",
   "execution_count": 6,
   "id": "1f13afac",
   "metadata": {},
   "outputs": [
    {
     "name": "stdout",
     "output_type": "stream",
     "text": [
      "1500 1500\n"
     ]
    }
   ],
   "source": [
    "origH, origW = img.shape[:2]\n",
    "print(origH, origW)"
   ]
  },
  {
   "cell_type": "code",
   "execution_count": 7,
   "id": "43cdbc7a",
   "metadata": {},
   "outputs": [],
   "source": [
    "plt.imshow(img)\n",
    "plt.title(\"Select the corners manually\")\n",
    "plt.axis(\"on\")\n",
    "plt.show(block=False)\n",
    "pts = plt.ginput(4, timeout=0)\n",
    "plt.close()"
   ]
  },
  {
   "cell_type": "code",
   "execution_count": 8,
   "id": "2765eb9c",
   "metadata": {},
   "outputs": [
    {
     "name": "stdout",
     "output_type": "stream",
     "text": [
      "Selected points: [[ 156.96753  435.37662]\n",
      " [ 891.5455    74.17532]\n",
      " [1382.617   1092.8441 ]\n",
      " [ 656.1558  1449.987  ]]\n"
     ]
    }
   ],
   "source": [
    "# (x,y) of corners\n",
    "pts = np.array(pts, dtype=np.float32)\n",
    "print(\"Selected points:\", pts)"
   ]
  },
  {
   "cell_type": "code",
   "execution_count": 9,
   "id": "8d8d131b",
   "metadata": {},
   "outputs": [],
   "source": [
    "import math"
   ]
  },
  {
   "cell_type": "code",
   "execution_count": 10,
   "id": "1b0b0987",
   "metadata": {},
   "outputs": [],
   "source": [
    "# Width and Height of Rectangle\n",
    "topW = math.sqrt((pts[0][0]-pts[1][0])**2 + (pts[0][1]-pts[1][1])**2)\n",
    "bottomW = math.sqrt((pts[2][0] - pts[3][0])**2 + (pts[2][1]-pts[3][1])**2)\n",
    "maxW = int(max(topW, bottomW))\n",
    "\n",
    "leftH = math.sqrt((pts[0][0]-pts[3][0])**2 + (pts[0][1]-pts[3][1])**2)\n",
    "rightH = math.sqrt((pts[1][0]-pts[2][0])**2 + (pts[1][1]-pts[2][1])**2)\n",
    "\n",
    "maxH = int(max(leftH, rightH))"
   ]
  },
  {
   "cell_type": "code",
   "execution_count": 11,
   "id": "fed2d0c8",
   "metadata": {},
   "outputs": [
    {
     "name": "stdout",
     "output_type": "stream",
     "text": [
      "1130 818\n"
     ]
    }
   ],
   "source": [
    "print(maxH, maxW)"
   ]
  },
  {
   "cell_type": "code",
   "execution_count": 12,
   "id": "344da9c9",
   "metadata": {},
   "outputs": [],
   "source": [
    "finalRect = np.array([[0, 0],[maxW-1, 0],[maxW-1, maxH-1],[0, maxH-1]], dtype=np.float32)"
   ]
  },
  {
   "cell_type": "code",
   "execution_count": 13,
   "id": "4964a4b2",
   "metadata": {},
   "outputs": [
    {
     "name": "stdout",
     "output_type": "stream",
     "text": [
      "Rotation angle in radians: 0.4572271042077215\n",
      "Rotation angle in degrees: 26.197183350090725\n"
     ]
    }
   ],
   "source": [
    "delx = pts[3][0] - pts[0][0] # negative if clockwise\n",
    "dely = pts[3][1] - pts[0][1] # positive\n",
    "\n",
    "theta = math.atan2(delx, dely)\n",
    "print(f\"Rotation angle in radians: {theta}\")\n",
    "print(f\"Rotation angle in degrees: {theta*180/math.pi}\")"
   ]
  },
  {
   "cell_type": "code",
   "execution_count": 14,
   "id": "43847de3",
   "metadata": {},
   "outputs": [
    {
     "name": "stdout",
     "output_type": "stream",
     "text": [
      "2008 2008\n"
     ]
    }
   ],
   "source": [
    "cosTheta = abs(np.cos(theta))\n",
    "sinTheta = abs(np.sin(theta))\n",
    "\n",
    "newW = int(origH*sinTheta + origW*cosTheta)\n",
    "newH = int(origH*cosTheta + origW*sinTheta)\n",
    "print(newH, newW)"
   ]
  },
  {
   "cell_type": "code",
   "execution_count": 15,
   "id": "6bd77053",
   "metadata": {},
   "outputs": [
    {
     "name": "stdout",
     "output_type": "stream",
     "text": [
      "254 254\n"
     ]
    }
   ],
   "source": [
    "padX = (newW-origW)//2\n",
    "padY = (newH-origH)//2\n",
    "print(padX, padY)"
   ]
  },
  {
   "cell_type": "code",
   "execution_count": 16,
   "id": "75fd75ae",
   "metadata": {},
   "outputs": [],
   "source": [
    "# Padded Image before Rotation\n",
    "paddedImg = np.zeros((newH, newW, 3), dtype=img.dtype)\n",
    "paddedImg[padY:padY+origH, padX:padX+origW] = img"
   ]
  },
  {
   "cell_type": "code",
   "execution_count": 17,
   "id": "d30fdc93",
   "metadata": {},
   "outputs": [],
   "source": [
    "plt.imshow(paddedImg)\n",
    "plt.axis('off')\n",
    "plt.show()"
   ]
  },
  {
   "cell_type": "code",
   "execution_count": 18,
   "id": "b59cb328",
   "metadata": {},
   "outputs": [
    {
     "name": "stdout",
     "output_type": "stream",
     "text": [
      "False\n"
     ]
    }
   ],
   "source": [
    "if theta < 0:\n",
    "    cw = True\n",
    "else:\n",
    "    cw = False\n",
    "print(cw)"
   ]
  },
  {
   "cell_type": "code",
   "execution_count": 19,
   "id": "3635dffd",
   "metadata": {},
   "outputs": [],
   "source": [
    "cosTheta = np.cos(theta)\n",
    "sinTheta = np.sin(theta)\n",
    "cx = newW//2\n",
    "cy = newH//2\n",
    "\n",
    "tx = cx - (cosTheta*cx-sinTheta*cy)\n",
    "ty = cy - (sinTheta*cx+cosTheta*cy)\n",
    "\n",
    "AffineRT =  np.array([\n",
    "    [cosTheta, -sinTheta, tx],\n",
    "    [sinTheta, cosTheta, ty],\n",
    "    [0,0, 1]\n",
    "])\n",
    "\n",
    "invAffineRT = np.linalg.inv(AffineRT)[:2,:]"
   ]
  },
  {
   "cell_type": "code",
   "execution_count": 20,
   "id": "41b74e63",
   "metadata": {},
   "outputs": [],
   "source": [
    "# Rotated image\n",
    "rotatedImg = np.zeros_like(paddedImg)"
   ]
  },
  {
   "cell_type": "markdown",
   "id": "cb6a476e",
   "metadata": {},
   "source": [
    "# Nearest Neighbour Interpolation of fractional pixels"
   ]
  },
  {
   "cell_type": "code",
   "execution_count": 21,
   "id": "0a09e018",
   "metadata": {},
   "outputs": [],
   "source": [
    "for j in range(newH):\n",
    "    for i in range(newW):\n",
    "        mat = np.dot(invAffineRT, np.array([i,j,1]))\n",
    "        x = int(round(mat[0])) # Nearest Neighbour\n",
    "        y = int(round(mat[1]))\n",
    "        if 0 <= x < newW and 0 <= y < newH:\n",
    "            rotatedImg[j, i] = paddedImg[y, x]"
   ]
  },
  {
   "cell_type": "code",
   "execution_count": 22,
   "id": "e9e3d8ab",
   "metadata": {},
   "outputs": [],
   "source": [
    "plt.imshow(rotatedImg)\n",
    "plt.axis('off')\n",
    "plt.show()"
   ]
  },
  {
   "cell_type": "code",
   "execution_count": 23,
   "id": "6e03c814",
   "metadata": {},
   "outputs": [],
   "source": [
    "Shiftedpts = pts + np.array([padX, padY], dtype=np.float32) # after padding\n",
    "Shiftedpts = np.hstack((Shiftedpts, np.ones((4,1))))\n",
    "Shiftedpts = np.dot(AffineRT, Shiftedpts.T).T  # (4, 3)"
   ]
  },
  {
   "cell_type": "code",
   "execution_count": 24,
   "id": "196fcfa6",
   "metadata": {},
   "outputs": [],
   "source": [
    "minX = max(int(np.floor(np.min(Shiftedpts[:, 0]))),0)\n",
    "maxX = min(int(np.ceil(np.max(Shiftedpts[:, 0]))),rotatedImg.shape[1])\n",
    "minY = max(int(np.floor(np.min(Shiftedpts[:, 1]))),0)\n",
    "maxY = min(int(np.ceil(np.max(Shiftedpts[:, 1]))),rotatedImg.shape[0])"
   ]
  },
  {
   "cell_type": "code",
   "execution_count": 25,
   "id": "1c1b77c3",
   "metadata": {},
   "outputs": [],
   "source": [
    "croppedImg = rotatedImg[minY:maxY, minX:maxX]"
   ]
  },
  {
   "cell_type": "code",
   "execution_count": 26,
   "id": "0b2c3067",
   "metadata": {},
   "outputs": [],
   "source": [
    "plt.imshow(croppedImg)\n",
    "plt.axis('off')\n",
    "plt.show()"
   ]
  },
  {
   "cell_type": "code",
   "execution_count": 27,
   "id": "39cbd72f",
   "metadata": {},
   "outputs": [],
   "source": [
    "plt.imsave(\"outputNN.png\", croppedImg)"
   ]
  },
  {
   "cell_type": "code",
   "execution_count": 28,
   "id": "8aa3a576",
   "metadata": {},
   "outputs": [],
   "source": [
    "rotatedImg = np.zeros_like(paddedImg) # restart"
   ]
  },
  {
   "cell_type": "markdown",
   "id": "434a79be",
   "metadata": {},
   "source": [
    "# BiLinear Interpolation of fractional pixels"
   ]
  },
  {
   "cell_type": "code",
   "execution_count": 29,
   "id": "8564bc3b",
   "metadata": {},
   "outputs": [],
   "source": [
    "for j in range(newH):\n",
    "    for i in range(newW):\n",
    "        mat = np.dot(invAffineRT, np.array([i, j, 1]))\n",
    "        x = mat[0]\n",
    "        y = mat[1]\n",
    "\n",
    "        # Neighbouring pixels\n",
    "        x0 = int(np.floor(x))\n",
    "        x1 = x0 + 1\n",
    "        y0 = int(np.floor(y))\n",
    "        y1 = y0 + 1\n",
    "\n",
    "        if 0 <= x0 < newW-1 and 0 <= y0 < newH-1:\n",
    "            dx = x - x0\n",
    "            dy = y - y0\n",
    "\n",
    "            I00 = paddedImg[y0, x0].astype(np.float32)\n",
    "            I10 = paddedImg[y0, x1].astype(np.float32)\n",
    "            I01 = paddedImg[y1, x0].astype(np.float32)\n",
    "            I11 = paddedImg[y1, x1].astype(np.float32)\n",
    "\n",
    "            BiLi = (1-dy)*((1 -dx)*I00 + dx*I10) + dy*((1-dx)*I01 + dx*I11)\n",
    "\n",
    "            rotatedImg[j, i] = np.clip(BiLi, 0, 255).astype(np.uint8)\n"
   ]
  },
  {
   "cell_type": "code",
   "execution_count": 30,
   "id": "b1993d17",
   "metadata": {},
   "outputs": [],
   "source": [
    "plt.imshow(rotatedImg)\n",
    "plt.axis('off')\n",
    "plt.show()"
   ]
  },
  {
   "cell_type": "code",
   "execution_count": 31,
   "id": "7dfcc847",
   "metadata": {},
   "outputs": [],
   "source": [
    "Shiftedpts = pts + np.array([padX, padY], dtype=np.float32) # after padding\n",
    "Shiftedpts = np.hstack((Shiftedpts, np.ones((4,1))))\n",
    "Shiftedpts = np.dot(AffineRT, Shiftedpts.T).T  # (4, 3)"
   ]
  },
  {
   "cell_type": "code",
   "execution_count": 32,
   "id": "b41ce36b",
   "metadata": {},
   "outputs": [],
   "source": [
    "minX = max(int(np.floor(np.min(Shiftedpts[:, 0]))),0)\n",
    "maxX = min(int(np.ceil(np.max(Shiftedpts[:, 0]))),rotatedImg.shape[1])\n",
    "minY = max(int(np.floor(np.min(Shiftedpts[:, 1]))),0)\n",
    "maxY = min(int(np.ceil(np.max(Shiftedpts[:, 1]))),rotatedImg.shape[0])"
   ]
  },
  {
   "cell_type": "code",
   "execution_count": 33,
   "id": "946c7a4b",
   "metadata": {},
   "outputs": [],
   "source": [
    "croppedImg = rotatedImg[minY:maxY, minX:maxX]"
   ]
  },
  {
   "cell_type": "code",
   "execution_count": 34,
   "id": "7b879049",
   "metadata": {},
   "outputs": [],
   "source": [
    "plt.imshow(croppedImg)\n",
    "plt.axis('off')\n",
    "plt.show()"
   ]
  },
  {
   "cell_type": "code",
   "execution_count": 35,
   "id": "e899c0b5",
   "metadata": {},
   "outputs": [],
   "source": [
    "plt.imsave(\"outputBiLi.png\", croppedImg)"
   ]
  },
  {
   "cell_type": "code",
   "execution_count": 36,
   "id": "26aefd12",
   "metadata": {},
   "outputs": [],
   "source": [
    "# # Scaling\n",
    "# xscale = maxW/newW\n",
    "# yscale = maxH/newH\n",
    "\n",
    "# cx = newW//2\n",
    "# cy = newH//2\n",
    "\n",
    "# tx = cx - xscale*cx\n",
    "# ty = cy - yscale*cy\n",
    "\n",
    "# AffineS = np.array([\n",
    "#     [xscale, 0, tx],\n",
    "#     [0, yscale, ty],\n",
    "#     [0,0,1]\n",
    "# ])\n",
    "\n",
    "# invAffineS = np.linalg.inv(AffineS)[:2,:]"
   ]
  },
  {
   "cell_type": "code",
   "execution_count": 37,
   "id": "8582d19a",
   "metadata": {},
   "outputs": [],
   "source": [
    "# scaledImg = np.zeros((maxH, maxW, 3), dtype=rotatedImg.dtype)"
   ]
  },
  {
   "cell_type": "code",
   "execution_count": 38,
   "id": "bd735f98",
   "metadata": {},
   "outputs": [],
   "source": [
    "# for j in range(maxH):\n",
    "#     for i in range(maxW):\n",
    "#         mat = np.dot(invAffineS, np.array([i,j,1]))\n",
    "#         x = int(round(mat[0])) # Nearest Neighbour\n",
    "#         y = int(round(mat[1]))\n",
    "#         if 0 <= x < newW and 0 <= y < newH:\n",
    "#             scaledImg[j, i] = rotatedImg[y, x]"
   ]
  },
  {
   "cell_type": "code",
   "execution_count": 39,
   "id": "c6f9bf1a",
   "metadata": {},
   "outputs": [],
   "source": [
    "# plt.imshow(scaledImg)\n",
    "# plt.axis('off') \n",
    "# plt.show()"
   ]
  }
 ],
 "metadata": {
  "kernelspec": {
   "display_name": "Python 3",
   "language": "python",
   "name": "python3"
  },
  "language_info": {
   "codemirror_mode": {
    "name": "ipython",
    "version": 3
   },
   "file_extension": ".py",
   "mimetype": "text/x-python",
   "name": "python",
   "nbconvert_exporter": "python",
   "pygments_lexer": "ipython3",
   "version": "3.11.9"
  }
 },
 "nbformat": 4,
 "nbformat_minor": 5
}
